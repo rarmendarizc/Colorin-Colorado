{
  "nbformat": 4,
  "nbformat_minor": 0,
  "metadata": {
    "colab": {
      "provenance": []
    },
    "kernelspec": {
      "name": "python3",
      "display_name": "Python 3"
    },
    "language_info": {
      "name": "python"
    }
  },
  "cells": [
    {
      "cell_type": "code",
      "source": [
        "import pandas as pd\n",
        "import numpy as np\n",
        "import pickle  # Para guardar los modelos\n",
        "from sklearn.cluster import KMeans\n",
        "from sklearn.preprocessing import StandardScaler\n",
        "\n",
        "# Datos de entrenamiento\n",
        "data = {\n",
        "    'celeste': [0, 2, 1, 3, 0, 4, 2, 1, 3, 5],\n",
        "    'magenta': [1, 0, 2, 1, 3, 4, 2, 1, 0, 5],\n",
        "    'azul': [0, 1, 2, 3, 2, 4, 0, 3, 1, 5],\n",
        "    'amarillo': [1, 2, 3, 0, 4, 1, 3, 2, 1, 5],\n",
        "    'verde': [2, 3, 1, 0, 4, 2, 5, 3, 1, 5],\n",
        "    'rojo': [0, 1, 2, 3, 1, 4, 0, 2, 3, 5]\n",
        "}\n",
        "\n",
        "# Convertir a DataFrame\n",
        "df = pd.DataFrame(data)\n",
        "\n",
        "# Escalar los datos\n",
        "scalers = {color: StandardScaler() for color in df.columns}\n",
        "df_scaled = df.copy()\n",
        "\n",
        "for color in df.columns:\n",
        "    df_scaled[color] = scalers[color].fit_transform(df[[color]])\n",
        "\n",
        "# Guardar los escaladores\n",
        "with open(\"scalers.pkl\", \"wb\") as f:\n",
        "    pickle.dump(scalers, f)\n",
        "\n",
        "# Aplicar K-Means por cada color\n",
        "kmeans_models = {color: KMeans(n_clusters=3, random_state=42, n_init=10) for color in df.columns}\n",
        "\n",
        "for color in df.columns:\n",
        "    kmeans_models[color].fit(df_scaled[[color]])\n",
        "\n",
        "# Guardar los modelos K-Means\n",
        "with open(\"kmeans_models.pkl\", \"wb\") as f:\n",
        "    pickle.dump(kmeans_models, f)\n",
        "\n",
        "print(\"Modelos entrenados y guardados correctamente.\")"
      ],
      "metadata": {
        "colab": {
          "base_uri": "https://localhost:8080/"
        },
        "id": "aDGXiph8yLTP",
        "outputId": "4d3f7a73-f682-44a8-b7a7-943deffe9b77"
      },
      "execution_count": 6,
      "outputs": [
        {
          "output_type": "stream",
          "name": "stdout",
          "text": [
            "Modelos entrenados y guardados correctamente.\n"
          ]
        }
      ]
    }
  ]
}